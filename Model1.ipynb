{
 "cells": [
  {
   "attachments": {},
   "cell_type": "markdown",
   "metadata": {},
   "source": [
    "## 1| IMPORT DEPENDENCIES"
   ]
  },
  {
   "cell_type": "code",
   "execution_count": 1,
   "metadata": {},
   "outputs": [],
   "source": [
    "import numpy as np\n",
    "import pandas as pd\n",
    "import seaborn as sns\n",
    "import matplotlib.pyplot as plt\n",
    "import plotly.express as px\n",
    "from plotly import figure_factory as figfac\n",
    "from termcolor import colored\n"
   ]
  },
  {
   "attachments": {},
   "cell_type": "markdown",
   "metadata": {},
   "source": [
    "## 2| LOAD DATASET"
   ]
  },
  {
   "cell_type": "code",
   "execution_count": 2,
   "metadata": {},
   "outputs": [],
   "source": [
    "df = pd.read_csv(\"crop_dataset.csv\")"
   ]
  },
  {
   "attachments": {},
   "cell_type": "markdown",
   "metadata": {},
   "source": [
    "## 3| SHOW SUMMARIZED DATASET"
   ]
  },
  {
   "cell_type": "code",
   "execution_count": 5,
   "metadata": {},
   "outputs": [
    {
     "data": {
      "application/vnd.plotly.v1+json": {
       "config": {
        "plotlyServerURL": "https://plot.ly"
       },
       "data": [
        {
         "colorscale": [
          [
           0,
           "#00083e"
          ],
          [
           0.5,
           "#ededee"
          ],
          [
           1,
           "#ffffff"
          ]
         ],
         "hoverinfo": "none",
         "opacity": 0.75,
         "showscale": false,
         "type": "heatmap",
         "z": [
          [
           0,
           0,
           0,
           0,
           0,
           0,
           0,
           0
          ],
          [
           0.5,
           0.5,
           0.5,
           0.5,
           0.5,
           0.5,
           0.5,
           0.5
          ],
          [
           1,
           1,
           1,
           1,
           1,
           1,
           1,
           1
          ],
          [
           0.5,
           0.5,
           0.5,
           0.5,
           0.5,
           0.5,
           0.5,
           0.5
          ],
          [
           1,
           1,
           1,
           1,
           1,
           1,
           1,
           1
          ],
          [
           0.5,
           0.5,
           0.5,
           0.5,
           0.5,
           0.5,
           0.5,
           0.5
          ],
          [
           1,
           1,
           1,
           1,
           1,
           1,
           1,
           1
          ],
          [
           0.5,
           0.5,
           0.5,
           0.5,
           0.5,
           0.5,
           0.5,
           0.5
          ],
          [
           1,
           1,
           1,
           1,
           1,
           1,
           1,
           1
          ],
          [
           0.5,
           0.5,
           0.5,
           0.5,
           0.5,
           0.5,
           0.5,
           0.5
          ],
          [
           1,
           1,
           1,
           1,
           1,
           1,
           1,
           1
          ]
         ]
        }
       ],
       "layout": {
        "annotations": [
         {
          "align": "left",
          "font": {
           "color": "#ffffff"
          },
          "showarrow": false,
          "text": "<b>N</b>",
          "x": -0.45,
          "xanchor": "left",
          "xref": "x",
          "y": 0,
          "yref": "y"
         },
         {
          "align": "left",
          "font": {
           "color": "#ffffff"
          },
          "showarrow": false,
          "text": "<b>P</b>",
          "x": 0.55,
          "xanchor": "left",
          "xref": "x",
          "y": 0,
          "yref": "y"
         },
         {
          "align": "left",
          "font": {
           "color": "#ffffff"
          },
          "showarrow": false,
          "text": "<b>K</b>",
          "x": 1.55,
          "xanchor": "left",
          "xref": "x",
          "y": 0,
          "yref": "y"
         },
         {
          "align": "left",
          "font": {
           "color": "#ffffff"
          },
          "showarrow": false,
          "text": "<b>temperature</b>",
          "x": 2.55,
          "xanchor": "left",
          "xref": "x",
          "y": 0,
          "yref": "y"
         },
         {
          "align": "left",
          "font": {
           "color": "#ffffff"
          },
          "showarrow": false,
          "text": "<b>humidity</b>",
          "x": 3.55,
          "xanchor": "left",
          "xref": "x",
          "y": 0,
          "yref": "y"
         },
         {
          "align": "left",
          "font": {
           "color": "#ffffff"
          },
          "showarrow": false,
          "text": "<b>ph</b>",
          "x": 4.55,
          "xanchor": "left",
          "xref": "x",
          "y": 0,
          "yref": "y"
         },
         {
          "align": "left",
          "font": {
           "color": "#ffffff"
          },
          "showarrow": false,
          "text": "<b>rainfall</b>",
          "x": 5.55,
          "xanchor": "left",
          "xref": "x",
          "y": 0,
          "yref": "y"
         },
         {
          "align": "left",
          "font": {
           "color": "#ffffff"
          },
          "showarrow": false,
          "text": "<b>label</b>",
          "x": 6.55,
          "xanchor": "left",
          "xref": "x",
          "y": 0,
          "yref": "y"
         },
         {
          "align": "left",
          "font": {
           "color": "#000000"
          },
          "showarrow": false,
          "text": "90",
          "x": -0.45,
          "xanchor": "left",
          "xref": "x",
          "y": 1,
          "yref": "y"
         },
         {
          "align": "left",
          "font": {
           "color": "#000000"
          },
          "showarrow": false,
          "text": "42",
          "x": 0.55,
          "xanchor": "left",
          "xref": "x",
          "y": 1,
          "yref": "y"
         },
         {
          "align": "left",
          "font": {
           "color": "#000000"
          },
          "showarrow": false,
          "text": "43",
          "x": 1.55,
          "xanchor": "left",
          "xref": "x",
          "y": 1,
          "yref": "y"
         },
         {
          "align": "left",
          "font": {
           "color": "#000000"
          },
          "showarrow": false,
          "text": "20.87974371",
          "x": 2.55,
          "xanchor": "left",
          "xref": "x",
          "y": 1,
          "yref": "y"
         },
         {
          "align": "left",
          "font": {
           "color": "#000000"
          },
          "showarrow": false,
          "text": "82.00274423",
          "x": 3.55,
          "xanchor": "left",
          "xref": "x",
          "y": 1,
          "yref": "y"
         },
         {
          "align": "left",
          "font": {
           "color": "#000000"
          },
          "showarrow": false,
          "text": "6.502985292",
          "x": 4.55,
          "xanchor": "left",
          "xref": "x",
          "y": 1,
          "yref": "y"
         },
         {
          "align": "left",
          "font": {
           "color": "#000000"
          },
          "showarrow": false,
          "text": "202.9355362",
          "x": 5.55,
          "xanchor": "left",
          "xref": "x",
          "y": 1,
          "yref": "y"
         },
         {
          "align": "left",
          "font": {
           "color": "#000000"
          },
          "showarrow": false,
          "text": "rice",
          "x": 6.55,
          "xanchor": "left",
          "xref": "x",
          "y": 1,
          "yref": "y"
         },
         {
          "align": "left",
          "font": {
           "color": "#000000"
          },
          "showarrow": false,
          "text": "85",
          "x": -0.45,
          "xanchor": "left",
          "xref": "x",
          "y": 2,
          "yref": "y"
         },
         {
          "align": "left",
          "font": {
           "color": "#000000"
          },
          "showarrow": false,
          "text": "58",
          "x": 0.55,
          "xanchor": "left",
          "xref": "x",
          "y": 2,
          "yref": "y"
         },
         {
          "align": "left",
          "font": {
           "color": "#000000"
          },
          "showarrow": false,
          "text": "41",
          "x": 1.55,
          "xanchor": "left",
          "xref": "x",
          "y": 2,
          "yref": "y"
         },
         {
          "align": "left",
          "font": {
           "color": "#000000"
          },
          "showarrow": false,
          "text": "21.77046169",
          "x": 2.55,
          "xanchor": "left",
          "xref": "x",
          "y": 2,
          "yref": "y"
         },
         {
          "align": "left",
          "font": {
           "color": "#000000"
          },
          "showarrow": false,
          "text": "80.31964408",
          "x": 3.55,
          "xanchor": "left",
          "xref": "x",
          "y": 2,
          "yref": "y"
         },
         {
          "align": "left",
          "font": {
           "color": "#000000"
          },
          "showarrow": false,
          "text": "7.038096361",
          "x": 4.55,
          "xanchor": "left",
          "xref": "x",
          "y": 2,
          "yref": "y"
         },
         {
          "align": "left",
          "font": {
           "color": "#000000"
          },
          "showarrow": false,
          "text": "226.6555374",
          "x": 5.55,
          "xanchor": "left",
          "xref": "x",
          "y": 2,
          "yref": "y"
         },
         {
          "align": "left",
          "font": {
           "color": "#000000"
          },
          "showarrow": false,
          "text": "rice",
          "x": 6.55,
          "xanchor": "left",
          "xref": "x",
          "y": 2,
          "yref": "y"
         },
         {
          "align": "left",
          "font": {
           "color": "#000000"
          },
          "showarrow": false,
          "text": "60",
          "x": -0.45,
          "xanchor": "left",
          "xref": "x",
          "y": 3,
          "yref": "y"
         },
         {
          "align": "left",
          "font": {
           "color": "#000000"
          },
          "showarrow": false,
          "text": "55",
          "x": 0.55,
          "xanchor": "left",
          "xref": "x",
          "y": 3,
          "yref": "y"
         },
         {
          "align": "left",
          "font": {
           "color": "#000000"
          },
          "showarrow": false,
          "text": "44",
          "x": 1.55,
          "xanchor": "left",
          "xref": "x",
          "y": 3,
          "yref": "y"
         },
         {
          "align": "left",
          "font": {
           "color": "#000000"
          },
          "showarrow": false,
          "text": "23.00445915",
          "x": 2.55,
          "xanchor": "left",
          "xref": "x",
          "y": 3,
          "yref": "y"
         },
         {
          "align": "left",
          "font": {
           "color": "#000000"
          },
          "showarrow": false,
          "text": "82.3207629",
          "x": 3.55,
          "xanchor": "left",
          "xref": "x",
          "y": 3,
          "yref": "y"
         },
         {
          "align": "left",
          "font": {
           "color": "#000000"
          },
          "showarrow": false,
          "text": "7.840207144",
          "x": 4.55,
          "xanchor": "left",
          "xref": "x",
          "y": 3,
          "yref": "y"
         },
         {
          "align": "left",
          "font": {
           "color": "#000000"
          },
          "showarrow": false,
          "text": "263.9642476",
          "x": 5.55,
          "xanchor": "left",
          "xref": "x",
          "y": 3,
          "yref": "y"
         },
         {
          "align": "left",
          "font": {
           "color": "#000000"
          },
          "showarrow": false,
          "text": "rice",
          "x": 6.55,
          "xanchor": "left",
          "xref": "x",
          "y": 3,
          "yref": "y"
         },
         {
          "align": "left",
          "font": {
           "color": "#000000"
          },
          "showarrow": false,
          "text": "74",
          "x": -0.45,
          "xanchor": "left",
          "xref": "x",
          "y": 4,
          "yref": "y"
         },
         {
          "align": "left",
          "font": {
           "color": "#000000"
          },
          "showarrow": false,
          "text": "35",
          "x": 0.55,
          "xanchor": "left",
          "xref": "x",
          "y": 4,
          "yref": "y"
         },
         {
          "align": "left",
          "font": {
           "color": "#000000"
          },
          "showarrow": false,
          "text": "40",
          "x": 1.55,
          "xanchor": "left",
          "xref": "x",
          "y": 4,
          "yref": "y"
         },
         {
          "align": "left",
          "font": {
           "color": "#000000"
          },
          "showarrow": false,
          "text": "26.49109635",
          "x": 2.55,
          "xanchor": "left",
          "xref": "x",
          "y": 4,
          "yref": "y"
         },
         {
          "align": "left",
          "font": {
           "color": "#000000"
          },
          "showarrow": false,
          "text": "80.15836264",
          "x": 3.55,
          "xanchor": "left",
          "xref": "x",
          "y": 4,
          "yref": "y"
         },
         {
          "align": "left",
          "font": {
           "color": "#000000"
          },
          "showarrow": false,
          "text": "6.980400905",
          "x": 4.55,
          "xanchor": "left",
          "xref": "x",
          "y": 4,
          "yref": "y"
         },
         {
          "align": "left",
          "font": {
           "color": "#000000"
          },
          "showarrow": false,
          "text": "242.8640342",
          "x": 5.55,
          "xanchor": "left",
          "xref": "x",
          "y": 4,
          "yref": "y"
         },
         {
          "align": "left",
          "font": {
           "color": "#000000"
          },
          "showarrow": false,
          "text": "rice",
          "x": 6.55,
          "xanchor": "left",
          "xref": "x",
          "y": 4,
          "yref": "y"
         },
         {
          "align": "left",
          "font": {
           "color": "#000000"
          },
          "showarrow": false,
          "text": "78",
          "x": -0.45,
          "xanchor": "left",
          "xref": "x",
          "y": 5,
          "yref": "y"
         },
         {
          "align": "left",
          "font": {
           "color": "#000000"
          },
          "showarrow": false,
          "text": "42",
          "x": 0.55,
          "xanchor": "left",
          "xref": "x",
          "y": 5,
          "yref": "y"
         },
         {
          "align": "left",
          "font": {
           "color": "#000000"
          },
          "showarrow": false,
          "text": "42",
          "x": 1.55,
          "xanchor": "left",
          "xref": "x",
          "y": 5,
          "yref": "y"
         },
         {
          "align": "left",
          "font": {
           "color": "#000000"
          },
          "showarrow": false,
          "text": "20.13017482",
          "x": 2.55,
          "xanchor": "left",
          "xref": "x",
          "y": 5,
          "yref": "y"
         },
         {
          "align": "left",
          "font": {
           "color": "#000000"
          },
          "showarrow": false,
          "text": "81.60487287",
          "x": 3.55,
          "xanchor": "left",
          "xref": "x",
          "y": 5,
          "yref": "y"
         },
         {
          "align": "left",
          "font": {
           "color": "#000000"
          },
          "showarrow": false,
          "text": "7.628472891",
          "x": 4.55,
          "xanchor": "left",
          "xref": "x",
          "y": 5,
          "yref": "y"
         },
         {
          "align": "left",
          "font": {
           "color": "#000000"
          },
          "showarrow": false,
          "text": "262.7173405",
          "x": 5.55,
          "xanchor": "left",
          "xref": "x",
          "y": 5,
          "yref": "y"
         },
         {
          "align": "left",
          "font": {
           "color": "#000000"
          },
          "showarrow": false,
          "text": "rice",
          "x": 6.55,
          "xanchor": "left",
          "xref": "x",
          "y": 5,
          "yref": "y"
         },
         {
          "align": "left",
          "font": {
           "color": "#000000"
          },
          "showarrow": false,
          "text": "69",
          "x": -0.45,
          "xanchor": "left",
          "xref": "x",
          "y": 6,
          "yref": "y"
         },
         {
          "align": "left",
          "font": {
           "color": "#000000"
          },
          "showarrow": false,
          "text": "37",
          "x": 0.55,
          "xanchor": "left",
          "xref": "x",
          "y": 6,
          "yref": "y"
         },
         {
          "align": "left",
          "font": {
           "color": "#000000"
          },
          "showarrow": false,
          "text": "42",
          "x": 1.55,
          "xanchor": "left",
          "xref": "x",
          "y": 6,
          "yref": "y"
         },
         {
          "align": "left",
          "font": {
           "color": "#000000"
          },
          "showarrow": false,
          "text": "23.05804872",
          "x": 2.55,
          "xanchor": "left",
          "xref": "x",
          "y": 6,
          "yref": "y"
         },
         {
          "align": "left",
          "font": {
           "color": "#000000"
          },
          "showarrow": false,
          "text": "83.37011772",
          "x": 3.55,
          "xanchor": "left",
          "xref": "x",
          "y": 6,
          "yref": "y"
         },
         {
          "align": "left",
          "font": {
           "color": "#000000"
          },
          "showarrow": false,
          "text": "7.073453503",
          "x": 4.55,
          "xanchor": "left",
          "xref": "x",
          "y": 6,
          "yref": "y"
         },
         {
          "align": "left",
          "font": {
           "color": "#000000"
          },
          "showarrow": false,
          "text": "251.0549998",
          "x": 5.55,
          "xanchor": "left",
          "xref": "x",
          "y": 6,
          "yref": "y"
         },
         {
          "align": "left",
          "font": {
           "color": "#000000"
          },
          "showarrow": false,
          "text": "rice",
          "x": 6.55,
          "xanchor": "left",
          "xref": "x",
          "y": 6,
          "yref": "y"
         },
         {
          "align": "left",
          "font": {
           "color": "#000000"
          },
          "showarrow": false,
          "text": "69",
          "x": -0.45,
          "xanchor": "left",
          "xref": "x",
          "y": 7,
          "yref": "y"
         },
         {
          "align": "left",
          "font": {
           "color": "#000000"
          },
          "showarrow": false,
          "text": "55",
          "x": 0.55,
          "xanchor": "left",
          "xref": "x",
          "y": 7,
          "yref": "y"
         },
         {
          "align": "left",
          "font": {
           "color": "#000000"
          },
          "showarrow": false,
          "text": "38",
          "x": 1.55,
          "xanchor": "left",
          "xref": "x",
          "y": 7,
          "yref": "y"
         },
         {
          "align": "left",
          "font": {
           "color": "#000000"
          },
          "showarrow": false,
          "text": "22.70883798",
          "x": 2.55,
          "xanchor": "left",
          "xref": "x",
          "y": 7,
          "yref": "y"
         },
         {
          "align": "left",
          "font": {
           "color": "#000000"
          },
          "showarrow": false,
          "text": "82.63941394",
          "x": 3.55,
          "xanchor": "left",
          "xref": "x",
          "y": 7,
          "yref": "y"
         },
         {
          "align": "left",
          "font": {
           "color": "#000000"
          },
          "showarrow": false,
          "text": "5.70080568",
          "x": 4.55,
          "xanchor": "left",
          "xref": "x",
          "y": 7,
          "yref": "y"
         },
         {
          "align": "left",
          "font": {
           "color": "#000000"
          },
          "showarrow": false,
          "text": "271.3248604",
          "x": 5.55,
          "xanchor": "left",
          "xref": "x",
          "y": 7,
          "yref": "y"
         },
         {
          "align": "left",
          "font": {
           "color": "#000000"
          },
          "showarrow": false,
          "text": "rice",
          "x": 6.55,
          "xanchor": "left",
          "xref": "x",
          "y": 7,
          "yref": "y"
         },
         {
          "align": "left",
          "font": {
           "color": "#000000"
          },
          "showarrow": false,
          "text": "94",
          "x": -0.45,
          "xanchor": "left",
          "xref": "x",
          "y": 8,
          "yref": "y"
         },
         {
          "align": "left",
          "font": {
           "color": "#000000"
          },
          "showarrow": false,
          "text": "53",
          "x": 0.55,
          "xanchor": "left",
          "xref": "x",
          "y": 8,
          "yref": "y"
         },
         {
          "align": "left",
          "font": {
           "color": "#000000"
          },
          "showarrow": false,
          "text": "40",
          "x": 1.55,
          "xanchor": "left",
          "xref": "x",
          "y": 8,
          "yref": "y"
         },
         {
          "align": "left",
          "font": {
           "color": "#000000"
          },
          "showarrow": false,
          "text": "20.27774362",
          "x": 2.55,
          "xanchor": "left",
          "xref": "x",
          "y": 8,
          "yref": "y"
         },
         {
          "align": "left",
          "font": {
           "color": "#000000"
          },
          "showarrow": false,
          "text": "82.89408619",
          "x": 3.55,
          "xanchor": "left",
          "xref": "x",
          "y": 8,
          "yref": "y"
         },
         {
          "align": "left",
          "font": {
           "color": "#000000"
          },
          "showarrow": false,
          "text": "5.718627178",
          "x": 4.55,
          "xanchor": "left",
          "xref": "x",
          "y": 8,
          "yref": "y"
         },
         {
          "align": "left",
          "font": {
           "color": "#000000"
          },
          "showarrow": false,
          "text": "241.9741949",
          "x": 5.55,
          "xanchor": "left",
          "xref": "x",
          "y": 8,
          "yref": "y"
         },
         {
          "align": "left",
          "font": {
           "color": "#000000"
          },
          "showarrow": false,
          "text": "rice",
          "x": 6.55,
          "xanchor": "left",
          "xref": "x",
          "y": 8,
          "yref": "y"
         },
         {
          "align": "left",
          "font": {
           "color": "#000000"
          },
          "showarrow": false,
          "text": "89",
          "x": -0.45,
          "xanchor": "left",
          "xref": "x",
          "y": 9,
          "yref": "y"
         },
         {
          "align": "left",
          "font": {
           "color": "#000000"
          },
          "showarrow": false,
          "text": "54",
          "x": 0.55,
          "xanchor": "left",
          "xref": "x",
          "y": 9,
          "yref": "y"
         },
         {
          "align": "left",
          "font": {
           "color": "#000000"
          },
          "showarrow": false,
          "text": "38",
          "x": 1.55,
          "xanchor": "left",
          "xref": "x",
          "y": 9,
          "yref": "y"
         },
         {
          "align": "left",
          "font": {
           "color": "#000000"
          },
          "showarrow": false,
          "text": "24.51588066",
          "x": 2.55,
          "xanchor": "left",
          "xref": "x",
          "y": 9,
          "yref": "y"
         },
         {
          "align": "left",
          "font": {
           "color": "#000000"
          },
          "showarrow": false,
          "text": "83.5352163",
          "x": 3.55,
          "xanchor": "left",
          "xref": "x",
          "y": 9,
          "yref": "y"
         },
         {
          "align": "left",
          "font": {
           "color": "#000000"
          },
          "showarrow": false,
          "text": "6.685346424",
          "x": 4.55,
          "xanchor": "left",
          "xref": "x",
          "y": 9,
          "yref": "y"
         },
         {
          "align": "left",
          "font": {
           "color": "#000000"
          },
          "showarrow": false,
          "text": "230.4462359",
          "x": 5.55,
          "xanchor": "left",
          "xref": "x",
          "y": 9,
          "yref": "y"
         },
         {
          "align": "left",
          "font": {
           "color": "#000000"
          },
          "showarrow": false,
          "text": "rice",
          "x": 6.55,
          "xanchor": "left",
          "xref": "x",
          "y": 9,
          "yref": "y"
         },
         {
          "align": "left",
          "font": {
           "color": "#000000"
          },
          "showarrow": false,
          "text": "68",
          "x": -0.45,
          "xanchor": "left",
          "xref": "x",
          "y": 10,
          "yref": "y"
         },
         {
          "align": "left",
          "font": {
           "color": "#000000"
          },
          "showarrow": false,
          "text": "58",
          "x": 0.55,
          "xanchor": "left",
          "xref": "x",
          "y": 10,
          "yref": "y"
         },
         {
          "align": "left",
          "font": {
           "color": "#000000"
          },
          "showarrow": false,
          "text": "38",
          "x": 1.55,
          "xanchor": "left",
          "xref": "x",
          "y": 10,
          "yref": "y"
         },
         {
          "align": "left",
          "font": {
           "color": "#000000"
          },
          "showarrow": false,
          "text": "23.22397386",
          "x": 2.55,
          "xanchor": "left",
          "xref": "x",
          "y": 10,
          "yref": "y"
         },
         {
          "align": "left",
          "font": {
           "color": "#000000"
          },
          "showarrow": false,
          "text": "83.03322691",
          "x": 3.55,
          "xanchor": "left",
          "xref": "x",
          "y": 10,
          "yref": "y"
         },
         {
          "align": "left",
          "font": {
           "color": "#000000"
          },
          "showarrow": false,
          "text": "6.336253525",
          "x": 4.55,
          "xanchor": "left",
          "xref": "x",
          "y": 10,
          "yref": "y"
         },
         {
          "align": "left",
          "font": {
           "color": "#000000"
          },
          "showarrow": false,
          "text": "221.2091958",
          "x": 5.55,
          "xanchor": "left",
          "xref": "x",
          "y": 10,
          "yref": "y"
         },
         {
          "align": "left",
          "font": {
           "color": "#000000"
          },
          "showarrow": false,
          "text": "rice",
          "x": 6.55,
          "xanchor": "left",
          "xref": "x",
          "y": 10,
          "yref": "y"
         }
        ],
        "height": 380,
        "margin": {
         "b": 0,
         "l": 0,
         "r": 0,
         "t": 0
        },
        "template": {
         "data": {
          "bar": [
           {
            "error_x": {
             "color": "#2a3f5f"
            },
            "error_y": {
             "color": "#2a3f5f"
            },
            "marker": {
             "line": {
              "color": "#E5ECF6",
              "width": 0.5
             },
             "pattern": {
              "fillmode": "overlay",
              "size": 10,
              "solidity": 0.2
             }
            },
            "type": "bar"
           }
          ],
          "barpolar": [
           {
            "marker": {
             "line": {
              "color": "#E5ECF6",
              "width": 0.5
             },
             "pattern": {
              "fillmode": "overlay",
              "size": 10,
              "solidity": 0.2
             }
            },
            "type": "barpolar"
           }
          ],
          "carpet": [
           {
            "aaxis": {
             "endlinecolor": "#2a3f5f",
             "gridcolor": "white",
             "linecolor": "white",
             "minorgridcolor": "white",
             "startlinecolor": "#2a3f5f"
            },
            "baxis": {
             "endlinecolor": "#2a3f5f",
             "gridcolor": "white",
             "linecolor": "white",
             "minorgridcolor": "white",
             "startlinecolor": "#2a3f5f"
            },
            "type": "carpet"
           }
          ],
          "choropleth": [
           {
            "colorbar": {
             "outlinewidth": 0,
             "ticks": ""
            },
            "type": "choropleth"
           }
          ],
          "contour": [
           {
            "colorbar": {
             "outlinewidth": 0,
             "ticks": ""
            },
            "colorscale": [
             [
              0,
              "#0d0887"
             ],
             [
              0.1111111111111111,
              "#46039f"
             ],
             [
              0.2222222222222222,
              "#7201a8"
             ],
             [
              0.3333333333333333,
              "#9c179e"
             ],
             [
              0.4444444444444444,
              "#bd3786"
             ],
             [
              0.5555555555555556,
              "#d8576b"
             ],
             [
              0.6666666666666666,
              "#ed7953"
             ],
             [
              0.7777777777777778,
              "#fb9f3a"
             ],
             [
              0.8888888888888888,
              "#fdca26"
             ],
             [
              1,
              "#f0f921"
             ]
            ],
            "type": "contour"
           }
          ],
          "contourcarpet": [
           {
            "colorbar": {
             "outlinewidth": 0,
             "ticks": ""
            },
            "type": "contourcarpet"
           }
          ],
          "heatmap": [
           {
            "colorbar": {
             "outlinewidth": 0,
             "ticks": ""
            },
            "colorscale": [
             [
              0,
              "#0d0887"
             ],
             [
              0.1111111111111111,
              "#46039f"
             ],
             [
              0.2222222222222222,
              "#7201a8"
             ],
             [
              0.3333333333333333,
              "#9c179e"
             ],
             [
              0.4444444444444444,
              "#bd3786"
             ],
             [
              0.5555555555555556,
              "#d8576b"
             ],
             [
              0.6666666666666666,
              "#ed7953"
             ],
             [
              0.7777777777777778,
              "#fb9f3a"
             ],
             [
              0.8888888888888888,
              "#fdca26"
             ],
             [
              1,
              "#f0f921"
             ]
            ],
            "type": "heatmap"
           }
          ],
          "heatmapgl": [
           {
            "colorbar": {
             "outlinewidth": 0,
             "ticks": ""
            },
            "colorscale": [
             [
              0,
              "#0d0887"
             ],
             [
              0.1111111111111111,
              "#46039f"
             ],
             [
              0.2222222222222222,
              "#7201a8"
             ],
             [
              0.3333333333333333,
              "#9c179e"
             ],
             [
              0.4444444444444444,
              "#bd3786"
             ],
             [
              0.5555555555555556,
              "#d8576b"
             ],
             [
              0.6666666666666666,
              "#ed7953"
             ],
             [
              0.7777777777777778,
              "#fb9f3a"
             ],
             [
              0.8888888888888888,
              "#fdca26"
             ],
             [
              1,
              "#f0f921"
             ]
            ],
            "type": "heatmapgl"
           }
          ],
          "histogram": [
           {
            "marker": {
             "pattern": {
              "fillmode": "overlay",
              "size": 10,
              "solidity": 0.2
             }
            },
            "type": "histogram"
           }
          ],
          "histogram2d": [
           {
            "colorbar": {
             "outlinewidth": 0,
             "ticks": ""
            },
            "colorscale": [
             [
              0,
              "#0d0887"
             ],
             [
              0.1111111111111111,
              "#46039f"
             ],
             [
              0.2222222222222222,
              "#7201a8"
             ],
             [
              0.3333333333333333,
              "#9c179e"
             ],
             [
              0.4444444444444444,
              "#bd3786"
             ],
             [
              0.5555555555555556,
              "#d8576b"
             ],
             [
              0.6666666666666666,
              "#ed7953"
             ],
             [
              0.7777777777777778,
              "#fb9f3a"
             ],
             [
              0.8888888888888888,
              "#fdca26"
             ],
             [
              1,
              "#f0f921"
             ]
            ],
            "type": "histogram2d"
           }
          ],
          "histogram2dcontour": [
           {
            "colorbar": {
             "outlinewidth": 0,
             "ticks": ""
            },
            "colorscale": [
             [
              0,
              "#0d0887"
             ],
             [
              0.1111111111111111,
              "#46039f"
             ],
             [
              0.2222222222222222,
              "#7201a8"
             ],
             [
              0.3333333333333333,
              "#9c179e"
             ],
             [
              0.4444444444444444,
              "#bd3786"
             ],
             [
              0.5555555555555556,
              "#d8576b"
             ],
             [
              0.6666666666666666,
              "#ed7953"
             ],
             [
              0.7777777777777778,
              "#fb9f3a"
             ],
             [
              0.8888888888888888,
              "#fdca26"
             ],
             [
              1,
              "#f0f921"
             ]
            ],
            "type": "histogram2dcontour"
           }
          ],
          "mesh3d": [
           {
            "colorbar": {
             "outlinewidth": 0,
             "ticks": ""
            },
            "type": "mesh3d"
           }
          ],
          "parcoords": [
           {
            "line": {
             "colorbar": {
              "outlinewidth": 0,
              "ticks": ""
             }
            },
            "type": "parcoords"
           }
          ],
          "pie": [
           {
            "automargin": true,
            "type": "pie"
           }
          ],
          "scatter": [
           {
            "fillpattern": {
             "fillmode": "overlay",
             "size": 10,
             "solidity": 0.2
            },
            "type": "scatter"
           }
          ],
          "scatter3d": [
           {
            "line": {
             "colorbar": {
              "outlinewidth": 0,
              "ticks": ""
             }
            },
            "marker": {
             "colorbar": {
              "outlinewidth": 0,
              "ticks": ""
             }
            },
            "type": "scatter3d"
           }
          ],
          "scattercarpet": [
           {
            "marker": {
             "colorbar": {
              "outlinewidth": 0,
              "ticks": ""
             }
            },
            "type": "scattercarpet"
           }
          ],
          "scattergeo": [
           {
            "marker": {
             "colorbar": {
              "outlinewidth": 0,
              "ticks": ""
             }
            },
            "type": "scattergeo"
           }
          ],
          "scattergl": [
           {
            "marker": {
             "colorbar": {
              "outlinewidth": 0,
              "ticks": ""
             }
            },
            "type": "scattergl"
           }
          ],
          "scattermapbox": [
           {
            "marker": {
             "colorbar": {
              "outlinewidth": 0,
              "ticks": ""
             }
            },
            "type": "scattermapbox"
           }
          ],
          "scatterpolar": [
           {
            "marker": {
             "colorbar": {
              "outlinewidth": 0,
              "ticks": ""
             }
            },
            "type": "scatterpolar"
           }
          ],
          "scatterpolargl": [
           {
            "marker": {
             "colorbar": {
              "outlinewidth": 0,
              "ticks": ""
             }
            },
            "type": "scatterpolargl"
           }
          ],
          "scatterternary": [
           {
            "marker": {
             "colorbar": {
              "outlinewidth": 0,
              "ticks": ""
             }
            },
            "type": "scatterternary"
           }
          ],
          "surface": [
           {
            "colorbar": {
             "outlinewidth": 0,
             "ticks": ""
            },
            "colorscale": [
             [
              0,
              "#0d0887"
             ],
             [
              0.1111111111111111,
              "#46039f"
             ],
             [
              0.2222222222222222,
              "#7201a8"
             ],
             [
              0.3333333333333333,
              "#9c179e"
             ],
             [
              0.4444444444444444,
              "#bd3786"
             ],
             [
              0.5555555555555556,
              "#d8576b"
             ],
             [
              0.6666666666666666,
              "#ed7953"
             ],
             [
              0.7777777777777778,
              "#fb9f3a"
             ],
             [
              0.8888888888888888,
              "#fdca26"
             ],
             [
              1,
              "#f0f921"
             ]
            ],
            "type": "surface"
           }
          ],
          "table": [
           {
            "cells": {
             "fill": {
              "color": "#EBF0F8"
             },
             "line": {
              "color": "white"
             }
            },
            "header": {
             "fill": {
              "color": "#C8D4E3"
             },
             "line": {
              "color": "white"
             }
            },
            "type": "table"
           }
          ]
         },
         "layout": {
          "annotationdefaults": {
           "arrowcolor": "#2a3f5f",
           "arrowhead": 0,
           "arrowwidth": 1
          },
          "autotypenumbers": "strict",
          "coloraxis": {
           "colorbar": {
            "outlinewidth": 0,
            "ticks": ""
           }
          },
          "colorscale": {
           "diverging": [
            [
             0,
             "#8e0152"
            ],
            [
             0.1,
             "#c51b7d"
            ],
            [
             0.2,
             "#de77ae"
            ],
            [
             0.3,
             "#f1b6da"
            ],
            [
             0.4,
             "#fde0ef"
            ],
            [
             0.5,
             "#f7f7f7"
            ],
            [
             0.6,
             "#e6f5d0"
            ],
            [
             0.7,
             "#b8e186"
            ],
            [
             0.8,
             "#7fbc41"
            ],
            [
             0.9,
             "#4d9221"
            ],
            [
             1,
             "#276419"
            ]
           ],
           "sequential": [
            [
             0,
             "#0d0887"
            ],
            [
             0.1111111111111111,
             "#46039f"
            ],
            [
             0.2222222222222222,
             "#7201a8"
            ],
            [
             0.3333333333333333,
             "#9c179e"
            ],
            [
             0.4444444444444444,
             "#bd3786"
            ],
            [
             0.5555555555555556,
             "#d8576b"
            ],
            [
             0.6666666666666666,
             "#ed7953"
            ],
            [
             0.7777777777777778,
             "#fb9f3a"
            ],
            [
             0.8888888888888888,
             "#fdca26"
            ],
            [
             1,
             "#f0f921"
            ]
           ],
           "sequentialminus": [
            [
             0,
             "#0d0887"
            ],
            [
             0.1111111111111111,
             "#46039f"
            ],
            [
             0.2222222222222222,
             "#7201a8"
            ],
            [
             0.3333333333333333,
             "#9c179e"
            ],
            [
             0.4444444444444444,
             "#bd3786"
            ],
            [
             0.5555555555555556,
             "#d8576b"
            ],
            [
             0.6666666666666666,
             "#ed7953"
            ],
            [
             0.7777777777777778,
             "#fb9f3a"
            ],
            [
             0.8888888888888888,
             "#fdca26"
            ],
            [
             1,
             "#f0f921"
            ]
           ]
          },
          "colorway": [
           "#636efa",
           "#EF553B",
           "#00cc96",
           "#ab63fa",
           "#FFA15A",
           "#19d3f3",
           "#FF6692",
           "#B6E880",
           "#FF97FF",
           "#FECB52"
          ],
          "font": {
           "color": "#2a3f5f"
          },
          "geo": {
           "bgcolor": "white",
           "lakecolor": "white",
           "landcolor": "#E5ECF6",
           "showlakes": true,
           "showland": true,
           "subunitcolor": "white"
          },
          "hoverlabel": {
           "align": "left"
          },
          "hovermode": "closest",
          "mapbox": {
           "style": "light"
          },
          "paper_bgcolor": "white",
          "plot_bgcolor": "#E5ECF6",
          "polar": {
           "angularaxis": {
            "gridcolor": "white",
            "linecolor": "white",
            "ticks": ""
           },
           "bgcolor": "#E5ECF6",
           "radialaxis": {
            "gridcolor": "white",
            "linecolor": "white",
            "ticks": ""
           }
          },
          "scene": {
           "xaxis": {
            "backgroundcolor": "#E5ECF6",
            "gridcolor": "white",
            "gridwidth": 2,
            "linecolor": "white",
            "showbackground": true,
            "ticks": "",
            "zerolinecolor": "white"
           },
           "yaxis": {
            "backgroundcolor": "#E5ECF6",
            "gridcolor": "white",
            "gridwidth": 2,
            "linecolor": "white",
            "showbackground": true,
            "ticks": "",
            "zerolinecolor": "white"
           },
           "zaxis": {
            "backgroundcolor": "#E5ECF6",
            "gridcolor": "white",
            "gridwidth": 2,
            "linecolor": "white",
            "showbackground": true,
            "ticks": "",
            "zerolinecolor": "white"
           }
          },
          "shapedefaults": {
           "line": {
            "color": "#2a3f5f"
           }
          },
          "ternary": {
           "aaxis": {
            "gridcolor": "white",
            "linecolor": "white",
            "ticks": ""
           },
           "baxis": {
            "gridcolor": "white",
            "linecolor": "white",
            "ticks": ""
           },
           "bgcolor": "#E5ECF6",
           "caxis": {
            "gridcolor": "white",
            "linecolor": "white",
            "ticks": ""
           }
          },
          "title": {
           "x": 0.05
          },
          "xaxis": {
           "automargin": true,
           "gridcolor": "white",
           "linecolor": "white",
           "ticks": "",
           "title": {
            "standoff": 15
           },
           "zerolinecolor": "white",
           "zerolinewidth": 2
          },
          "yaxis": {
           "automargin": true,
           "gridcolor": "white",
           "linecolor": "white",
           "ticks": "",
           "title": {
            "standoff": 15
           },
           "zerolinecolor": "white",
           "zerolinewidth": 2
          }
         }
        },
        "xaxis": {
         "dtick": 1,
         "gridwidth": 2,
         "showticklabels": false,
         "tick0": -0.5,
         "ticks": "",
         "zeroline": false
        },
        "yaxis": {
         "autorange": "reversed",
         "dtick": 1,
         "gridwidth": 2,
         "showticklabels": false,
         "tick0": 0.5,
         "ticks": "",
         "zeroline": false
        }
       }
      }
     },
     "metadata": {},
     "output_type": "display_data"
    }
   ],
   "source": [
    "fig = figfac.create_table(df.head(n=10))\n",
    "fig.show()"
   ]
  },
  {
   "attachments": {},
   "cell_type": "markdown",
   "metadata": {},
   "source": [
    "## <b>4| INITIAL INFORMATION ABOUT DATASET</b>"
   ]
  },
  {
   "attachments": {},
   "cell_type": "markdown",
   "metadata": {},
   "source": [
    "#### <b>4.1| INITIAL INFORMATION ABOUT DATASET</b>"
   ]
  },
  {
   "cell_type": "code",
   "execution_count": 6,
   "metadata": {},
   "outputs": [
    {
     "name": "stdout",
     "output_type": "stream",
     "text": [
      "<class 'pandas.core.frame.DataFrame'>\n",
      "RangeIndex: 1697 entries, 0 to 1696\n",
      "Data columns (total 8 columns):\n",
      " #   Column       Non-Null Count  Dtype  \n",
      "---  ------       --------------  -----  \n",
      " 0   N            1697 non-null   int64  \n",
      " 1   P            1697 non-null   int64  \n",
      " 2   K            1697 non-null   int64  \n",
      " 3   temperature  1697 non-null   float64\n",
      " 4   humidity     1697 non-null   float64\n",
      " 5   ph           1697 non-null   float64\n",
      " 6   rainfall     1697 non-null   float64\n",
      " 7   label        1697 non-null   object \n",
      "dtypes: float64(4), int64(3), object(1)\n",
      "memory usage: 106.2+ KB\n"
     ]
    }
   ],
   "source": [
    "df.info()"
   ]
  },
  {
   "attachments": {},
   "cell_type": "markdown",
   "metadata": {},
   "source": [
    "#### <b>4.2| Descriptive statistics of dataset</b>"
   ]
  },
  {
   "cell_type": "code",
   "execution_count": 14,
   "metadata": {},
   "outputs": [
    {
     "data": {
      "text/html": [
       "<style type=\"text/css\">\n",
       "#T_aff88_row0_col0, #T_aff88_row0_col1, #T_aff88_row0_col2, #T_aff88_row0_col3, #T_aff88_row0_col4, #T_aff88_row0_col5, #T_aff88_row0_col6, #T_aff88_row0_col7, #T_aff88_row1_col0, #T_aff88_row1_col1, #T_aff88_row1_col2, #T_aff88_row1_col3, #T_aff88_row1_col4, #T_aff88_row1_col5, #T_aff88_row1_col6, #T_aff88_row1_col7, #T_aff88_row2_col0, #T_aff88_row2_col1, #T_aff88_row2_col2, #T_aff88_row2_col3, #T_aff88_row2_col4, #T_aff88_row2_col5, #T_aff88_row2_col6, #T_aff88_row2_col7, #T_aff88_row3_col0, #T_aff88_row3_col1, #T_aff88_row3_col2, #T_aff88_row3_col3, #T_aff88_row3_col4, #T_aff88_row3_col5, #T_aff88_row3_col6, #T_aff88_row3_col7, #T_aff88_row4_col0, #T_aff88_row4_col1, #T_aff88_row4_col2, #T_aff88_row4_col3, #T_aff88_row4_col4, #T_aff88_row4_col5, #T_aff88_row4_col6, #T_aff88_row4_col7, #T_aff88_row5_col0, #T_aff88_row5_col1, #T_aff88_row5_col2, #T_aff88_row5_col3, #T_aff88_row5_col4, #T_aff88_row5_col5, #T_aff88_row5_col6, #T_aff88_row5_col7, #T_aff88_row6_col0, #T_aff88_row6_col1, #T_aff88_row6_col2, #T_aff88_row6_col3, #T_aff88_row6_col4, #T_aff88_row6_col5, #T_aff88_row6_col6, #T_aff88_row6_col7 {\n",
       "  background-color: #26231C;\n",
       "  border-radius: 1px;\n",
       "}\n",
       "</style>\n",
       "<table id=\"T_aff88\">\n",
       "  <thead>\n",
       "    <tr>\n",
       "      <th class=\"blank level0\" >&nbsp;</th>\n",
       "      <th id=\"T_aff88_level0_col0\" class=\"col_heading level0 col0\" >count</th>\n",
       "      <th id=\"T_aff88_level0_col1\" class=\"col_heading level0 col1\" >mean</th>\n",
       "      <th id=\"T_aff88_level0_col2\" class=\"col_heading level0 col2\" >std</th>\n",
       "      <th id=\"T_aff88_level0_col3\" class=\"col_heading level0 col3\" >min</th>\n",
       "      <th id=\"T_aff88_level0_col4\" class=\"col_heading level0 col4\" >25%</th>\n",
       "      <th id=\"T_aff88_level0_col5\" class=\"col_heading level0 col5\" >50%</th>\n",
       "      <th id=\"T_aff88_level0_col6\" class=\"col_heading level0 col6\" >75%</th>\n",
       "      <th id=\"T_aff88_level0_col7\" class=\"col_heading level0 col7\" >max</th>\n",
       "    </tr>\n",
       "  </thead>\n",
       "  <tbody>\n",
       "    <tr>\n",
       "      <th id=\"T_aff88_level0_row0\" class=\"row_heading level0 row0\" >N</th>\n",
       "      <td id=\"T_aff88_row0_col0\" class=\"data row0 col0\" >1697.000000</td>\n",
       "      <td id=\"T_aff88_row0_col1\" class=\"data row0 col1\" >52.647024</td>\n",
       "      <td id=\"T_aff88_row0_col2\" class=\"data row0 col2\" >38.536964</td>\n",
       "      <td id=\"T_aff88_row0_col3\" class=\"data row0 col3\" >0.000000</td>\n",
       "      <td id=\"T_aff88_row0_col4\" class=\"data row0 col4\" >21.000000</td>\n",
       "      <td id=\"T_aff88_row0_col5\" class=\"data row0 col5\" >37.000000</td>\n",
       "      <td id=\"T_aff88_row0_col6\" class=\"data row0 col6\" >90.000000</td>\n",
       "      <td id=\"T_aff88_row0_col7\" class=\"data row0 col7\" >140.000000</td>\n",
       "    </tr>\n",
       "    <tr>\n",
       "      <th id=\"T_aff88_level0_row1\" class=\"row_heading level0 row1\" >P</th>\n",
       "      <td id=\"T_aff88_row1_col0\" class=\"data row1 col0\" >1697.000000</td>\n",
       "      <td id=\"T_aff88_row1_col1\" class=\"data row1 col1\" >58.126105</td>\n",
       "      <td id=\"T_aff88_row1_col2\" class=\"data row1 col2\" >34.164342</td>\n",
       "      <td id=\"T_aff88_row1_col3\" class=\"data row1 col3\" >5.000000</td>\n",
       "      <td id=\"T_aff88_row1_col4\" class=\"data row1 col4\" >36.000000</td>\n",
       "      <td id=\"T_aff88_row1_col5\" class=\"data row1 col5\" >54.000000</td>\n",
       "      <td id=\"T_aff88_row1_col6\" class=\"data row1 col6\" >72.000000</td>\n",
       "      <td id=\"T_aff88_row1_col7\" class=\"data row1 col7\" >145.000000</td>\n",
       "    </tr>\n",
       "    <tr>\n",
       "      <th id=\"T_aff88_level0_row2\" class=\"row_heading level0 row2\" >K</th>\n",
       "      <td id=\"T_aff88_row2_col0\" class=\"data row2 col0\" >1697.000000</td>\n",
       "      <td id=\"T_aff88_row2_col1\" class=\"data row2 col1\" >52.031232</td>\n",
       "      <td id=\"T_aff88_row2_col2\" class=\"data row2 col2\" >57.068796</td>\n",
       "      <td id=\"T_aff88_row2_col3\" class=\"data row2 col3\" >5.000000</td>\n",
       "      <td id=\"T_aff88_row2_col4\" class=\"data row2 col4\" >19.000000</td>\n",
       "      <td id=\"T_aff88_row2_col5\" class=\"data row2 col5\" >27.000000</td>\n",
       "      <td id=\"T_aff88_row2_col6\" class=\"data row2 col6\" >52.000000</td>\n",
       "      <td id=\"T_aff88_row2_col7\" class=\"data row2 col7\" >205.000000</td>\n",
       "    </tr>\n",
       "    <tr>\n",
       "      <th id=\"T_aff88_level0_row3\" class=\"row_heading level0 row3\" >temperature</th>\n",
       "      <td id=\"T_aff88_row3_col0\" class=\"data row3 col0\" >1697.000000</td>\n",
       "      <td id=\"T_aff88_row3_col1\" class=\"data row3 col1\" >24.711674</td>\n",
       "      <td id=\"T_aff88_row3_col2\" class=\"data row3 col2\" >4.910428</td>\n",
       "      <td id=\"T_aff88_row3_col3\" class=\"data row3 col3\" >8.825675</td>\n",
       "      <td id=\"T_aff88_row3_col4\" class=\"data row3 col4\" >21.631491</td>\n",
       "      <td id=\"T_aff88_row3_col5\" class=\"data row3 col5\" >24.910323</td>\n",
       "      <td id=\"T_aff88_row3_col6\" class=\"data row3 col6\" >27.834871</td>\n",
       "      <td id=\"T_aff88_row3_col7\" class=\"data row3 col7\" >41.948657</td>\n",
       "    </tr>\n",
       "    <tr>\n",
       "      <th id=\"T_aff88_level0_row4\" class=\"row_heading level0 row4\" >humidity</th>\n",
       "      <td id=\"T_aff88_row4_col0\" class=\"data row4 col0\" >1697.000000</td>\n",
       "      <td id=\"T_aff88_row4_col1\" class=\"data row4 col1\" >65.848856</td>\n",
       "      <td id=\"T_aff88_row4_col2\" class=\"data row4 col2\" >24.432640</td>\n",
       "      <td id=\"T_aff88_row4_col3\" class=\"data row4 col3\" >14.258040</td>\n",
       "      <td id=\"T_aff88_row4_col4\" class=\"data row4 col4\" >51.278688</td>\n",
       "      <td id=\"T_aff88_row4_col5\" class=\"data row4 col5\" >77.906210</td>\n",
       "      <td id=\"T_aff88_row4_col6\" class=\"data row4 col6\" >83.856427</td>\n",
       "      <td id=\"T_aff88_row4_col7\" class=\"data row4 col7\" >94.964199</td>\n",
       "    </tr>\n",
       "    <tr>\n",
       "      <th id=\"T_aff88_level0_row5\" class=\"row_heading level0 row5\" >ph</th>\n",
       "      <td id=\"T_aff88_row5_col0\" class=\"data row5 col0\" >1697.000000</td>\n",
       "      <td id=\"T_aff88_row5_col1\" class=\"data row5 col1\" >6.438962</td>\n",
       "      <td id=\"T_aff88_row5_col2\" class=\"data row5 col2\" >0.870411</td>\n",
       "      <td id=\"T_aff88_row5_col3\" class=\"data row5 col3\" >3.504752</td>\n",
       "      <td id=\"T_aff88_row5_col4\" class=\"data row5 col4\" >5.861399</td>\n",
       "      <td id=\"T_aff88_row5_col5\" class=\"data row5 col5\" >6.354007</td>\n",
       "      <td id=\"T_aff88_row5_col6\" class=\"data row5 col6\" >6.932537</td>\n",
       "      <td id=\"T_aff88_row5_col7\" class=\"data row5 col7\" >9.935091</td>\n",
       "    </tr>\n",
       "    <tr>\n",
       "      <th id=\"T_aff88_level0_row6\" class=\"row_heading level0 row6\" >rainfall</th>\n",
       "      <td id=\"T_aff88_row6_col0\" class=\"data row6 col0\" >1697.000000</td>\n",
       "      <td id=\"T_aff88_row6_col1\" class=\"data row6 col1\" >99.364935</td>\n",
       "      <td id=\"T_aff88_row6_col2\" class=\"data row6 col2\" >50.436396</td>\n",
       "      <td id=\"T_aff88_row6_col3\" class=\"data row6 col3\" >5.314507</td>\n",
       "      <td id=\"T_aff88_row6_col4\" class=\"data row6 col4\" >66.838723</td>\n",
       "      <td id=\"T_aff88_row6_col5\" class=\"data row6 col5\" >93.123306</td>\n",
       "      <td id=\"T_aff88_row6_col6\" class=\"data row6 col6\" >115.356032</td>\n",
       "      <td id=\"T_aff88_row6_col7\" class=\"data row6 col7\" >298.560117</td>\n",
       "    </tr>\n",
       "  </tbody>\n",
       "</table>\n"
      ],
      "text/plain": [
       "<pandas.io.formats.style.Styler at 0x2785502fad0>"
      ]
     },
     "execution_count": 14,
     "metadata": {},
     "output_type": "execute_result"
    }
   ],
   "source": [
    "df.describe().T.style.set_properties(**{\"background-color\":\"#26231C\", \"border-radius\" : \"1px\"})"
   ]
  },
  {
   "attachments": {},
   "cell_type": "markdown",
   "metadata": {},
   "source": [
    "\n",
    "#### <b>4.3| Addition information about dataset</b>"
   ]
  },
  {
   "cell_type": "code",
   "execution_count": 16,
   "metadata": {},
   "outputs": [
    {
     "name": "stdout",
     "output_type": "stream",
     "text": [
      "Shape of the dataset:  (1697, 8)\n",
      "Length of the dataset:  1697\n"
     ]
    }
   ],
   "source": [
    "print(\"Shape of the dataset: \", df.shape)\n",
    "print(\"Length of the dataset: \", len(df))"
   ]
  },
  {
   "cell_type": "markdown",
   "metadata": {},
   "source": [
    "#### <b>4.4| Correlation between variables of dataset</b>"
   ]
  },
  {
   "cell_type": "code",
   "execution_count": 26,
   "metadata": {},
   "outputs": [
    {
     "data": {
      "text/html": [
       "<style type=\"text/css\">\n",
       "#T_de64e_row0_col0, #T_de64e_row1_col1, #T_de64e_row2_col2, #T_de64e_row3_col3, #T_de64e_row4_col4, #T_de64e_row5_col5, #T_de64e_row6_col6 {\n",
       "  background-color: #ffc77f;\n",
       "  color: #000000;\n",
       "}\n",
       "#T_de64e_row0_col1 {\n",
       "  background-color: #020201;\n",
       "  color: #f1f1f1;\n",
       "}\n",
       "#T_de64e_row0_col2, #T_de64e_row1_col0, #T_de64e_row1_col3, #T_de64e_row1_col5, #T_de64e_row2_col3, #T_de64e_row5_col1, #T_de64e_row5_col6, #T_de64e_row6_col4 {\n",
       "  background-color: #000000;\n",
       "  color: #f1f1f1;\n",
       "}\n",
       "#T_de64e_row0_col3 {\n",
       "  background-color: #2e1d12;\n",
       "  color: #f1f1f1;\n",
       "}\n",
       "#T_de64e_row0_col4 {\n",
       "  background-color: #4e311f;\n",
       "  color: #f1f1f1;\n",
       "}\n",
       "#T_de64e_row0_col5, #T_de64e_row6_col0 {\n",
       "  background-color: #5e3b26;\n",
       "  color: #f1f1f1;\n",
       "}\n",
       "#T_de64e_row0_col6 {\n",
       "  background-color: #41291a;\n",
       "  color: #f1f1f1;\n",
       "}\n",
       "#T_de64e_row1_col2 {\n",
       "  background-color: #ffaa6c;\n",
       "  color: #000000;\n",
       "}\n",
       "#T_de64e_row1_col4, #T_de64e_row2_col6 {\n",
       "  background-color: #0a0604;\n",
       "  color: #f1f1f1;\n",
       "}\n",
       "#T_de64e_row1_col6, #T_de64e_row3_col1 {\n",
       "  background-color: #170f09;\n",
       "  color: #f1f1f1;\n",
       "}\n",
       "#T_de64e_row2_col0 {\n",
       "  background-color: #0b0704;\n",
       "  color: #f1f1f1;\n",
       "}\n",
       "#T_de64e_row2_col1 {\n",
       "  background-color: #ffab6d;\n",
       "  color: #000000;\n",
       "}\n",
       "#T_de64e_row2_col4, #T_de64e_row4_col5 {\n",
       "  background-color: #432a1b;\n",
       "  color: #f1f1f1;\n",
       "}\n",
       "#T_de64e_row2_col5 {\n",
       "  background-color: #1a100a;\n",
       "  color: #f1f1f1;\n",
       "}\n",
       "#T_de64e_row3_col0 {\n",
       "  background-color: #3f2819;\n",
       "  color: #f1f1f1;\n",
       "}\n",
       "#T_de64e_row3_col2 {\n",
       "  background-color: #090503;\n",
       "  color: #f1f1f1;\n",
       "}\n",
       "#T_de64e_row3_col4 {\n",
       "  background-color: #442b1b;\n",
       "  color: #f1f1f1;\n",
       "}\n",
       "#T_de64e_row3_col5, #T_de64e_row6_col5 {\n",
       "  background-color: #25170f;\n",
       "  color: #f1f1f1;\n",
       "}\n",
       "#T_de64e_row3_col6 {\n",
       "  background-color: #0e0905;\n",
       "  color: #f1f1f1;\n",
       "}\n",
       "#T_de64e_row4_col0 {\n",
       "  background-color: #7c4e32;\n",
       "  color: #f1f1f1;\n",
       "}\n",
       "#T_de64e_row4_col1 {\n",
       "  background-color: #462d1c;\n",
       "  color: #f1f1f1;\n",
       "}\n",
       "#T_de64e_row4_col2 {\n",
       "  background-color: #6a432b;\n",
       "  color: #f1f1f1;\n",
       "}\n",
       "#T_de64e_row4_col3 {\n",
       "  background-color: #654029;\n",
       "  color: #f1f1f1;\n",
       "}\n",
       "#T_de64e_row4_col6 {\n",
       "  background-color: #1b110b;\n",
       "  color: #f1f1f1;\n",
       "}\n",
       "#T_de64e_row5_col0 {\n",
       "  background-color: #5d3b25;\n",
       "  color: #f1f1f1;\n",
       "}\n",
       "#T_de64e_row5_col2 {\n",
       "  background-color: #0c0805;\n",
       "  color: #f1f1f1;\n",
       "}\n",
       "#T_de64e_row5_col3 {\n",
       "  background-color: #0f0906;\n",
       "  color: #f1f1f1;\n",
       "}\n",
       "#T_de64e_row5_col4 {\n",
       "  background-color: #060402;\n",
       "  color: #f1f1f1;\n",
       "}\n",
       "#T_de64e_row6_col1 {\n",
       "  background-color: #3b2518;\n",
       "  color: #f1f1f1;\n",
       "}\n",
       "#T_de64e_row6_col2 {\n",
       "  background-color: #23160e;\n",
       "  color: #f1f1f1;\n",
       "}\n",
       "#T_de64e_row6_col3 {\n",
       "  background-color: #1c120b;\n",
       "  color: #f1f1f1;\n",
       "}\n",
       "</style>\n",
       "<table id=\"T_de64e\">\n",
       "  <thead>\n",
       "    <tr>\n",
       "      <th class=\"blank level0\" >&nbsp;</th>\n",
       "      <th id=\"T_de64e_level0_col0\" class=\"col_heading level0 col0\" >N</th>\n",
       "      <th id=\"T_de64e_level0_col1\" class=\"col_heading level0 col1\" >P</th>\n",
       "      <th id=\"T_de64e_level0_col2\" class=\"col_heading level0 col2\" >K</th>\n",
       "      <th id=\"T_de64e_level0_col3\" class=\"col_heading level0 col3\" >temperature</th>\n",
       "      <th id=\"T_de64e_level0_col4\" class=\"col_heading level0 col4\" >humidity</th>\n",
       "      <th id=\"T_de64e_level0_col5\" class=\"col_heading level0 col5\" >ph</th>\n",
       "      <th id=\"T_de64e_level0_col6\" class=\"col_heading level0 col6\" >rainfall</th>\n",
       "    </tr>\n",
       "  </thead>\n",
       "  <tbody>\n",
       "    <tr>\n",
       "      <th id=\"T_de64e_level0_row0\" class=\"row_heading level0 row0\" >N</th>\n",
       "      <td id=\"T_de64e_row0_col0\" class=\"data row0 col0\" >1.000000</td>\n",
       "      <td id=\"T_de64e_row0_col1\" class=\"data row0 col1\" >-0.245443</td>\n",
       "      <td id=\"T_de64e_row0_col2\" class=\"data row0 col2\" >-0.199120</td>\n",
       "      <td id=\"T_de64e_row0_col3\" class=\"data row0 col3\" >0.003268</td>\n",
       "      <td id=\"T_de64e_row0_col4\" class=\"data row0 col4\" >0.242780</td>\n",
       "      <td id=\"T_de64e_row0_col5\" class=\"data row0 col5\" >0.119566</td>\n",
       "      <td id=\"T_de64e_row0_col6\" class=\"data row0 col6\" >0.126947</td>\n",
       "    </tr>\n",
       "    <tr>\n",
       "      <th id=\"T_de64e_level0_row1\" class=\"row_heading level0 row1\" >P</th>\n",
       "      <td id=\"T_de64e_row1_col0\" class=\"data row1 col0\" >-0.245443</td>\n",
       "      <td id=\"T_de64e_row1_col1\" class=\"data row1 col1\" >1.000000</td>\n",
       "      <td id=\"T_de64e_row1_col2\" class=\"data row1 col2\" >0.822431</td>\n",
       "      <td id=\"T_de64e_row1_col3\" class=\"data row1 col3\" >-0.161702</td>\n",
       "      <td id=\"T_de64e_row1_col4\" class=\"data row1 col4\" >0.027050</td>\n",
       "      <td id=\"T_de64e_row1_col5\" class=\"data row1 col5\" >-0.255942</td>\n",
       "      <td id=\"T_de64e_row1_col6\" class=\"data row1 col6\" >-0.020124</td>\n",
       "    </tr>\n",
       "    <tr>\n",
       "      <th id=\"T_de64e_level0_row2\" class=\"row_heading level0 row2\" >K</th>\n",
       "      <td id=\"T_de64e_row2_col0\" class=\"data row2 col0\" >-0.199120</td>\n",
       "      <td id=\"T_de64e_row2_col1\" class=\"data row2 col1\" >0.822431</td>\n",
       "      <td id=\"T_de64e_row2_col2\" class=\"data row2 col2\" >1.000000</td>\n",
       "      <td id=\"T_de64e_row2_col3\" class=\"data row2 col3\" >-0.165350</td>\n",
       "      <td id=\"T_de64e_row2_col4\" class=\"data row2 col4\" >0.205490</td>\n",
       "      <td id=\"T_de64e_row2_col5\" class=\"data row2 col5\" >-0.148136</td>\n",
       "      <td id=\"T_de64e_row2_col6\" class=\"data row2 col6\" >-0.066860</td>\n",
       "    </tr>\n",
       "    <tr>\n",
       "      <th id=\"T_de64e_level0_row3\" class=\"row_heading level0 row3\" >temperature</th>\n",
       "      <td id=\"T_de64e_row3_col0\" class=\"data row3 col0\" >0.003268</td>\n",
       "      <td id=\"T_de64e_row3_col1\" class=\"data row3 col1\" >-0.161702</td>\n",
       "      <td id=\"T_de64e_row3_col2\" class=\"data row3 col2\" >-0.165350</td>\n",
       "      <td id=\"T_de64e_row3_col3\" class=\"data row3 col3\" >1.000000</td>\n",
       "      <td id=\"T_de64e_row3_col4\" class=\"data row3 col4\" >0.211219</td>\n",
       "      <td id=\"T_de64e_row3_col5\" class=\"data row3 col5\" >-0.106763</td>\n",
       "      <td id=\"T_de64e_row3_col6\" class=\"data row3 col6\" >-0.056895</td>\n",
       "    </tr>\n",
       "    <tr>\n",
       "      <th id=\"T_de64e_level0_row4\" class=\"row_heading level0 row4\" >humidity</th>\n",
       "      <td id=\"T_de64e_row4_col0\" class=\"data row4 col0\" >0.242780</td>\n",
       "      <td id=\"T_de64e_row4_col1\" class=\"data row4 col1\" >0.027050</td>\n",
       "      <td id=\"T_de64e_row4_col2\" class=\"data row4 col2\" >0.205490</td>\n",
       "      <td id=\"T_de64e_row4_col3\" class=\"data row4 col3\" >0.211219</td>\n",
       "      <td id=\"T_de64e_row4_col4\" class=\"data row4 col4\" >1.000000</td>\n",
       "      <td id=\"T_de64e_row4_col5\" class=\"data row4 col5\" >0.012881</td>\n",
       "      <td id=\"T_de64e_row4_col6\" class=\"data row4 col6\" >-0.008299</td>\n",
       "    </tr>\n",
       "    <tr>\n",
       "      <th id=\"T_de64e_level0_row5\" class=\"row_heading level0 row5\" >ph</th>\n",
       "      <td id=\"T_de64e_row5_col0\" class=\"data row5 col0\" >0.119566</td>\n",
       "      <td id=\"T_de64e_row5_col1\" class=\"data row5 col1\" >-0.255942</td>\n",
       "      <td id=\"T_de64e_row5_col2\" class=\"data row5 col2\" >-0.148136</td>\n",
       "      <td id=\"T_de64e_row5_col3\" class=\"data row5 col3\" >-0.106763</td>\n",
       "      <td id=\"T_de64e_row5_col4\" class=\"data row5 col4\" >0.012881</td>\n",
       "      <td id=\"T_de64e_row5_col5\" class=\"data row5 col5\" >1.000000</td>\n",
       "      <td id=\"T_de64e_row5_col6\" class=\"data row5 col6\" >-0.104514</td>\n",
       "    </tr>\n",
       "    <tr>\n",
       "      <th id=\"T_de64e_level0_row6\" class=\"row_heading level0 row6\" >rainfall</th>\n",
       "      <td id=\"T_de64e_row6_col0\" class=\"data row6 col0\" >0.126947</td>\n",
       "      <td id=\"T_de64e_row6_col1\" class=\"data row6 col1\" >-0.020124</td>\n",
       "      <td id=\"T_de64e_row6_col2\" class=\"data row6 col2\" >-0.066860</td>\n",
       "      <td id=\"T_de64e_row6_col3\" class=\"data row6 col3\" >-0.056895</td>\n",
       "      <td id=\"T_de64e_row6_col4\" class=\"data row6 col4\" >-0.008299</td>\n",
       "      <td id=\"T_de64e_row6_col5\" class=\"data row6 col5\" >-0.104514</td>\n",
       "      <td id=\"T_de64e_row6_col6\" class=\"data row6 col6\" >1.000000</td>\n",
       "    </tr>\n",
       "  </tbody>\n",
       "</table>\n"
      ],
      "text/plain": [
       "<pandas.io.formats.style.Styler at 0x2785ecdd110>"
      ]
     },
     "execution_count": 26,
     "metadata": {},
     "output_type": "execute_result"
    }
   ],
   "source": [
    "df1 = df.drop('label', axis=1)\n",
    "corr = df1.corr()\n",
    "corr.style.background_gradient(cmap = \"copper\")"
   ]
  },
  {
   "attachments": {},
   "cell_type": "markdown",
   "metadata": {},
   "source": [
    "## <b>5| DATA VISUALIZATION</b>\n"
   ]
  },
  {
   "attachments": {},
   "cell_type": "markdown",
   "metadata": {},
   "source": [
    "## <b>6| DATA PREPROCESSING</b>"
   ]
  },
  {
   "cell_type": "markdown",
   "metadata": {},
   "source": []
  }
 ],
 "metadata": {
  "kernelspec": {
   "display_name": "Python 3",
   "language": "python",
   "name": "python3"
  },
  "language_info": {
   "codemirror_mode": {
    "name": "ipython",
    "version": 3
   },
   "file_extension": ".py",
   "mimetype": "text/x-python",
   "name": "python",
   "nbconvert_exporter": "python",
   "pygments_lexer": "ipython3",
   "version": "3.11.2"
  },
  "orig_nbformat": 4
 },
 "nbformat": 4,
 "nbformat_minor": 2
}
